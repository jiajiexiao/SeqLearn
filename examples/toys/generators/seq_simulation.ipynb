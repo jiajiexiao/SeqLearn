{
 "cells": [
  {
   "cell_type": "markdown",
   "metadata": {},
   "source": [
    "# Example Notebook to Generate Positive and Negative Sequences\n"
   ]
  },
  {
   "cell_type": "code",
   "execution_count": 1,
   "metadata": {},
   "outputs": [],
   "source": [
    "from seqinfer.infer.generators import (\n",
    "    MotifInserter,\n",
    "    PWMInserter,\n",
    "    RandomSequenceGenerator,\n",
    ")\n",
    "from IPython.display import display, HTML\n",
    "import re\n",
    "import random\n",
    "\n",
    "random.seed(42)"
   ]
  },
  {
   "cell_type": "markdown",
   "metadata": {},
   "source": [
    "In order to simulate positive and negative sequences, which are with or without certain motifs, we can use `RandomSequenceGenerator`, `MotifInserter` and `PWMInserter`. \n",
    "\n",
    "The `RandomSequenceGenerator` can generate random sequences using the characters from the input alphabet. \n",
    "The `MotifInserter` and `PWMInserter` will replace a subset of the random sequences with the motif based on user specified location. Note `PWMInserter` is an extended version of `MotifInserter` since it allows the motif definition via a position weight matrix. "
   ]
  },
  {
   "cell_type": "code",
   "execution_count": 2,
   "metadata": {},
   "outputs": [],
   "source": [
    "# Define the motif via str or a position weight matrix\n",
    "motif = \"AT-GGC\" # \"-\" indicates the gap\n",
    "pwm = [\n",
    "    {\"A\": 0.9, \"C\": 0.1},\n",
    "    {\"T\": 1.0},\n",
    "    {\"-\": 1.0},\n",
    "    {\"G\": 1.0},\n",
    "    {\"G\": 1.0},\n",
    "    {\"C\": 1.0},\n",
    "]\n",
    "\n",
    "# Create instances of RandomSequenceGenerator, MotifInserter, and PWMInserter\n",
    "rsg = RandomSequenceGenerator(alphabet=\"ATCG\", char_distribution=[0.25, 0.25, 0.25, 0.25], seed=42)\n",
    "motif_inserter = MotifInserter(motif=motif)\n",
    "pwm_inserter = PWMInserter(pwm=pwm, seed=42)"
   ]
  },
  {
   "cell_type": "markdown",
   "metadata": {},
   "source": [
    "Let's generate 10 positive sequences with the motif of \"AT-GGC\" and 10 negative sequences without it. "
   ]
  },
  {
   "cell_type": "code",
   "execution_count": 3,
   "metadata": {},
   "outputs": [],
   "source": [
    "positive_sequences = []\n",
    "negative_sequences = []\n",
    "\n",
    "for _ in range(10):\n",
    "    # Generate a base sequence with a length between 20 and 30\n",
    "    length = random.randint(20, 30)\n",
    "    base_seq = rsg.generate_sequence(length)\n",
    "\n",
    "    # Insert the motif at a random position\n",
    "    insert_pos = random.randint(5, 10)  # Motif roughly inserted in the middle of the sequence\n",
    "    positive_seq = motif_inserter.insert_motif(base_seq, insert_pos)\n",
    "    positive_sequences.append(positive_seq)\n",
    "\n",
    "    # Generate a negative sequence with similar length and character distribution\n",
    "    negative_seq = rsg.generate_sequence(length)\n",
    "    negative_sequences.append(negative_seq)\n",
    "\n"
   ]
  },
  {
   "cell_type": "markdown",
   "metadata": {},
   "source": [
    "Let's compare the positive and negative sequences via simple visualization. You can use SeqLogo for better visualization. "
   ]
  },
  {
   "cell_type": "code",
   "execution_count": 4,
   "metadata": {},
   "outputs": [
    {
     "name": "stdout",
     "output_type": "stream",
     "text": [
      "Positive Sequences:\n"
     ]
    },
    {
     "data": {
      "text/html": [
       "CATAC<span style='color: red;'>ATAGGC</span>CAACCACGAGCTAGTAAGC"
      ],
      "text/plain": [
       "<IPython.core.display.HTML object>"
      ]
     },
     "metadata": {},
     "output_type": "display_data"
    },
    {
     "data": {
      "text/html": [
       "GCCCGGAATT<span style='color: red;'>ATGGGC</span>GTTA"
      ],
      "text/plain": [
       "<IPython.core.display.HTML object>"
      ]
     },
     "metadata": {},
     "output_type": "display_data"
    },
    {
     "data": {
      "text/html": [
       "ACCCTC<span style='color: red;'>ATTGGC</span>CAGGTCCAGCGC"
      ],
      "text/plain": [
       "<IPython.core.display.HTML object>"
      ]
     },
     "metadata": {},
     "output_type": "display_data"
    },
    {
     "data": {
      "text/html": [
       "ATGCTC<span style='color: red;'>ATTGGC</span>ACAGGAACAAG"
      ],
      "text/plain": [
       "<IPython.core.display.HTML object>"
      ]
     },
     "metadata": {},
     "output_type": "display_data"
    },
    {
     "data": {
      "text/html": [
       "TGCAGGGGGA<span style='color: red;'>ATTGGC</span>TGTTG"
      ],
      "text/plain": [
       "<IPython.core.display.HTML object>"
      ]
     },
     "metadata": {},
     "output_type": "display_data"
    },
    {
     "data": {
      "text/html": [
       "GACCT<span style='color: red;'>ATGGGC</span>TCTTGATGGAATGGGTA"
      ],
      "text/plain": [
       "<IPython.core.display.HTML object>"
      ]
     },
     "metadata": {},
     "output_type": "display_data"
    },
    {
     "data": {
      "text/html": [
       "CTCCTAAG<span style='color: red;'>ATGGGC</span>TGGGGAAAGGTCAGG"
      ],
      "text/plain": [
       "<IPython.core.display.HTML object>"
      ]
     },
     "metadata": {},
     "output_type": "display_data"
    },
    {
     "data": {
      "text/html": [
       "GCGAG<span style='color: red;'>ATTGGC</span>TCCTCTCAG"
      ],
      "text/plain": [
       "<IPython.core.display.HTML object>"
      ]
     },
     "metadata": {},
     "output_type": "display_data"
    },
    {
     "data": {
      "text/html": [
       "GCTCAT<span style='color: red;'>ATCGGC</span>TGGAACCTG"
      ],
      "text/plain": [
       "<IPython.core.display.HTML object>"
      ]
     },
     "metadata": {},
     "output_type": "display_data"
    },
    {
     "data": {
      "text/html": [
       "AGCAAGTGC<span style='color: red;'>ATGGGC</span>CGCGCTTA"
      ],
      "text/plain": [
       "<IPython.core.display.HTML object>"
      ]
     },
     "metadata": {},
     "output_type": "display_data"
    },
    {
     "name": "stdout",
     "output_type": "stream",
     "text": [
      "\n",
      "Negative Sequences:\n"
     ]
    },
    {
     "data": {
      "text/html": [
       "GCCGTCGCGCCAATAAATCTTATGCCACAT"
      ],
      "text/plain": [
       "<IPython.core.display.HTML object>"
      ]
     },
     "metadata": {},
     "output_type": "display_data"
    },
    {
     "data": {
      "text/html": [
       "CTCGTAGCAAACGTATGCGG"
      ],
      "text/plain": [
       "<IPython.core.display.HTML object>"
      ]
     },
     "metadata": {},
     "output_type": "display_data"
    },
    {
     "data": {
      "text/html": [
       "ATAGGGTAGGATAGGATCTGTACC"
      ],
      "text/plain": [
       "<IPython.core.display.HTML object>"
      ]
     },
     "metadata": {},
     "output_type": "display_data"
    },
    {
     "data": {
      "text/html": [
       "CTGGAATTTCCGATTGAATTTAG"
      ],
      "text/plain": [
       "<IPython.core.display.HTML object>"
      ]
     },
     "metadata": {},
     "output_type": "display_data"
    },
    {
     "data": {
      "text/html": [
       "GCCATGCCCACCGAGAACCAA"
      ],
      "text/plain": [
       "<IPython.core.display.HTML object>"
      ]
     },
     "metadata": {},
     "output_type": "display_data"
    },
    {
     "data": {
      "text/html": [
       "GCCGCAGTCGAAACTCCACTTGGATTAG"
      ],
      "text/plain": [
       "<IPython.core.display.HTML object>"
      ]
     },
     "metadata": {},
     "output_type": "display_data"
    },
    {
     "data": {
      "text/html": [
       "GGGACTGGGGTGAGGAGTTGAAATGGTCT"
      ],
      "text/plain": [
       "<IPython.core.display.HTML object>"
      ]
     },
     "metadata": {},
     "output_type": "display_data"
    },
    {
     "data": {
      "text/html": [
       "CCCCTACTTGCTTTTTATGC"
      ],
      "text/plain": [
       "<IPython.core.display.HTML object>"
      ]
     },
     "metadata": {},
     "output_type": "display_data"
    },
    {
     "data": {
      "text/html": [
       "GCAAAATGATCACTACAGGAT"
      ],
      "text/plain": [
       "<IPython.core.display.HTML object>"
      ]
     },
     "metadata": {},
     "output_type": "display_data"
    },
    {
     "data": {
      "text/html": [
       "CGCCTATTTCAACCATCTATGCC"
      ],
      "text/plain": [
       "<IPython.core.display.HTML object>"
      ]
     },
     "metadata": {},
     "output_type": "display_data"
    }
   ],
   "source": [
    "print(\"Positive Sequences:\")\n",
    "motif_pattern = motif.replace(\"-\", \".\")  #  Replace gaps with regex wildcard '.'\n",
    "for seq in positive_sequences:\n",
    "    # Use regex to find all matches of the motif and highlight them\n",
    "    highlighted_seq = re.sub(\n",
    "        f\"({motif_pattern})\",\n",
    "        r\"<span style='color: red;'>\\1</span>\",\n",
    "        seq\n",
    "    )\n",
    "    display(HTML(highlighted_seq))\n",
    "\n",
    "print(\"\\nNegative Sequences:\")\n",
    "for seq in negative_sequences:\n",
    "    # Use regex to find all matches of the motif and highlight them\n",
    "    highlighted_seq = re.sub(\n",
    "        f\"({motif_pattern})\",\n",
    "        r\"<span style='color: red;'>\\1</span>\",\n",
    "        seq\n",
    "    )\n",
    "    display(HTML(highlighted_seq))\n",
    "\n"
   ]
  },
  {
   "cell_type": "markdown",
   "metadata": {},
   "source": [
    "Similarly, we can repeat above by using motif definition via PWM. "
   ]
  },
  {
   "cell_type": "code",
   "execution_count": 5,
   "metadata": {},
   "outputs": [],
   "source": [
    "positive_sequences = []\n",
    "negative_sequences = []\n",
    "\n",
    "for _ in range(10):\n",
    "    # Generate a base sequence with a length between 20 and 30\n",
    "    length = random.randint(20, 30)\n",
    "    base_seq = rsg.generate_sequence(length)\n",
    "\n",
    "    # Insert the motif at a random position\n",
    "    insert_pos = random.randint(5, 10)  # Motif roughly inserted in the middle of the sequence\n",
    "    positive_seq = pwm_inserter.insert_pwm(base_seq, insert_pos)\n",
    "    positive_sequences.append(positive_seq)\n",
    "\n",
    "    # Generate a negative sequence with similar length and character distribution\n",
    "    negative_seq = rsg.generate_sequence(length)\n",
    "    negative_sequences.append(negative_seq)"
   ]
  },
  {
   "cell_type": "code",
   "execution_count": 6,
   "metadata": {},
   "outputs": [
    {
     "name": "stdout",
     "output_type": "stream",
     "text": [
      "Positive Sequences:\n"
     ]
    },
    {
     "data": {
      "text/html": [
       "GGTAT<span style='color: red;'>ATGGGC</span>CAATATCTATACATCACA"
      ],
      "text/plain": [
       "<IPython.core.display.HTML object>"
      ]
     },
     "metadata": {},
     "output_type": "display_data"
    },
    {
     "data": {
      "text/html": [
       "ACCAGG<span style='color: red;'>ATTGGC</span>CACCAGGCAGGTTTCT"
      ],
      "text/plain": [
       "<IPython.core.display.HTML object>"
      ]
     },
     "metadata": {},
     "output_type": "display_data"
    },
    {
     "data": {
      "text/html": [
       "AGTGCTAGAC<span style='color: red;'>ATCGGC</span>AACTCTCTCTCTTA"
      ],
      "text/plain": [
       "<IPython.core.display.HTML object>"
      ]
     },
     "metadata": {},
     "output_type": "display_data"
    },
    {
     "data": {
      "text/html": [
       "GTGTACAA<span style='color: red;'>ATGGGC</span>GACTTGGTCCCGAA"
      ],
      "text/plain": [
       "<IPython.core.display.HTML object>"
      ]
     },
     "metadata": {},
     "output_type": "display_data"
    },
    {
     "data": {
      "text/html": [
       "TACCGCTA<span style='color: red;'>CTTGGC</span>GCGGCTAGT"
      ],
      "text/plain": [
       "<IPython.core.display.HTML object>"
      ]
     },
     "metadata": {},
     "output_type": "display_data"
    },
    {
     "data": {
      "text/html": [
       "GCCTATG<span style='color: red;'>ATAGGC</span>CAGCAACCAGGTAGTC"
      ],
      "text/plain": [
       "<IPython.core.display.HTML object>"
      ]
     },
     "metadata": {},
     "output_type": "display_data"
    },
    {
     "data": {
      "text/html": [
       "ACCAGA<span style='color: red;'>ATGGGC</span>GTACCGGT"
      ],
      "text/plain": [
       "<IPython.core.display.HTML object>"
      ]
     },
     "metadata": {},
     "output_type": "display_data"
    },
    {
     "data": {
      "text/html": [
       "ACGGCTA<span style='color: red;'>ATTGGC</span>GTTACCGAAGCAG"
      ],
      "text/plain": [
       "<IPython.core.display.HTML object>"
      ]
     },
     "metadata": {},
     "output_type": "display_data"
    },
    {
     "data": {
      "text/html": [
       "TCCCAC<span style='color: red;'>ATTGGC</span>CCCCCGCGCTTC"
      ],
      "text/plain": [
       "<IPython.core.display.HTML object>"
      ]
     },
     "metadata": {},
     "output_type": "display_data"
    },
    {
     "data": {
      "text/html": [
       "GGTGACT<span style='color: red;'>ATCGGC</span>AAGCGAAGGT"
      ],
      "text/plain": [
       "<IPython.core.display.HTML object>"
      ]
     },
     "metadata": {},
     "output_type": "display_data"
    },
    {
     "name": "stdout",
     "output_type": "stream",
     "text": [
      "\n",
      "Negative Sequences:\n"
     ]
    },
    {
     "data": {
      "text/html": [
       "TATATGTGGTAACGTCGCGGAAAACCACG"
      ],
      "text/plain": [
       "<IPython.core.display.HTML object>"
      ]
     },
     "metadata": {},
     "output_type": "display_data"
    },
    {
     "data": {
      "text/html": [
       "GGAGCGCTCGTGCTTCTGGAGATCTAGA"
      ],
      "text/plain": [
       "<IPython.core.display.HTML object>"
      ]
     },
     "metadata": {},
     "output_type": "display_data"
    },
    {
     "data": {
      "text/html": [
       "AACGAATCGCTAAAAACTGCCAGTGCTTAA"
      ],
      "text/plain": [
       "<IPython.core.display.HTML object>"
      ]
     },
     "metadata": {},
     "output_type": "display_data"
    },
    {
     "data": {
      "text/html": [
       "CAAAATCTACCTCGGCCGTCCGGAATCC"
      ],
      "text/plain": [
       "<IPython.core.display.HTML object>"
      ]
     },
     "metadata": {},
     "output_type": "display_data"
    },
    {
     "data": {
      "text/html": [
       "CGACCTATTCGTCTGGCTTTGTC"
      ],
      "text/plain": [
       "<IPython.core.display.HTML object>"
      ]
     },
     "metadata": {},
     "output_type": "display_data"
    },
    {
     "data": {
      "text/html": [
       "CTGGACTGCGGTGTGCGTTCGTACTCCTT"
      ],
      "text/plain": [
       "<IPython.core.display.HTML object>"
      ]
     },
     "metadata": {},
     "output_type": "display_data"
    },
    {
     "data": {
      "text/html": [
       "CTCTCATGTCCGGGTTCGGA"
      ],
      "text/plain": [
       "<IPython.core.display.HTML object>"
      ]
     },
     "metadata": {},
     "output_type": "display_data"
    },
    {
     "data": {
      "text/html": [
       "ATTTAGGCATTCCTTGATTACCGTGC"
      ],
      "text/plain": [
       "<IPython.core.display.HTML object>"
      ]
     },
     "metadata": {},
     "output_type": "display_data"
    },
    {
     "data": {
      "text/html": [
       "CATCAACGCGGTGTGCTAGAGGCG"
      ],
      "text/plain": [
       "<IPython.core.display.HTML object>"
      ]
     },
     "metadata": {},
     "output_type": "display_data"
    },
    {
     "data": {
      "text/html": [
       "TAGTTAGATCCGTCATATTGATT"
      ],
      "text/plain": [
       "<IPython.core.display.HTML object>"
      ]
     },
     "metadata": {},
     "output_type": "display_data"
    }
   ],
   "source": [
    "pwm_pattern = \"[AC]T-GGC\".replace(\"-\", \".\") \n",
    "\n",
    "print(\"Positive Sequences:\")\n",
    "for seq in positive_sequences:\n",
    "    # Use regex to find all matches of the motif and highlight them\n",
    "    highlighted_seq = re.sub(\n",
    "        f\"({pwm_pattern})\",\n",
    "        r\"<span style='color: red;'>\\1</span>\",\n",
    "        seq\n",
    "    )\n",
    "    display(HTML(highlighted_seq))\n",
    "\n",
    "print(\"\\nNegative Sequences:\")\n",
    "for seq in negative_sequences:\n",
    "    # Use regex to find all matches of the motif and highlight them\n",
    "    highlighted_seq = re.sub(\n",
    "        f\"({motif_pattern})\",\n",
    "        r\"<span style='color: red;'>\\1</span>\",\n",
    "        seq\n",
    "    )\n",
    "    display(HTML(highlighted_seq))\n",
    "\n",
    "\n",
    "\n"
   ]
  },
  {
   "cell_type": "code",
   "execution_count": null,
   "metadata": {},
   "outputs": [],
   "source": []
  }
 ],
 "metadata": {
  "kernelspec": {
   "display_name": "seqinfer",
   "language": "python",
   "name": "python3"
  },
  "language_info": {
   "codemirror_mode": {
    "name": "ipython",
    "version": 3
   },
   "file_extension": ".py",
   "mimetype": "text/x-python",
   "name": "python",
   "nbconvert_exporter": "python",
   "pygments_lexer": "ipython3",
   "version": "3.10.12"
  }
 },
 "nbformat": 4,
 "nbformat_minor": 2
}
